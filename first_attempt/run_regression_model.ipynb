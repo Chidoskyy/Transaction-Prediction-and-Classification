{
 "cells": [
  {
   "cell_type": "markdown",
   "id": "a928dc72",
   "metadata": {},
   "source": [
    "# Run the Regression Model (Interactive Notebook)\n",
    "\n",
    "This notebook loads `regression_model.py` from the repo, creates features, trains a quick demo RandomForest, and shows inline evaluation and plots.\n",
    "\n",
    "Place this notebook in the `statements` folder (it has been saved there). Run the cells in order. If dependencies are missing, run the optional install cell."
   ]
  },
  {
   "cell_type": "code",
   "execution_count": 1,
   "id": "cbbbb039",
   "metadata": {},
   "outputs": [
    {
     "name": "stdout",
     "output_type": "stream",
     "text": [
      "CWD: c:\\Users\\udugr\\OneDrive\\Desktop\\mine\\Predictive Analytics - Copy\\First semester\\Database course\\Database & Programming Essentials 4\\Assignment4\\statements\n"
     ]
    }
   ],
   "source": [
    "# 1) Ensure notebook working directory is the project statements folder\n",
    "import os\n",
    "path = r\"c:\\Users\\udugr\\OneDrive\\Desktop\\mine\\Predictive Analytics - Copy\\First semester\\Database course\\Database & Programming Essentials 4\\Assignment4\\statements\"\n",
    "os.chdir(path)\n",
    "print('CWD:', os.getcwd())"
   ]
  },
  {
   "cell_type": "code",
   "execution_count": 2,
   "id": "1bc59703",
   "metadata": {},
   "outputs": [],
   "source": [
    "# 2) Optional: install dependencies (run once if needed)\n",
    "# Uncomment the next line to install from the project's requirements file\n",
    "# %pip install -r requirements_ui.txt\n",
    "# or install common packages individually:\n",
    "# %pip install pandas numpy scikit-learn matplotlib seaborn plotly joblib"
   ]
  },
  {
   "cell_type": "code",
   "execution_count": 3,
   "id": "3b27722e",
   "metadata": {},
   "outputs": [],
   "source": [
    "# 3) Configure inline plotting for Matplotlib and Plotly\n",
    "%matplotlib inline\n",
    "import matplotlib.pyplot as plt\n",
    "plt.rcParams['figure.figsize'] = (10, 6)\n",
    "import plotly.io as pio\n",
    "pio.renderers.default = 'notebook'  # optional"
   ]
  },
  {
   "cell_type": "code",
   "execution_count": 5,
   "id": "874ade4a",
   "metadata": {},
   "outputs": [
    {
     "name": "stdout",
     "output_type": "stream",
     "text": [
      "Loading transaction data...\n",
      "Loaded 67 transactions\n",
      "After removing payments: 62 transactions\n",
      "\n",
      "Loaded dataframe shape: (62, 6)\n"
     ]
    },
    {
     "data": {
      "text/html": [
       "<div>\n",
       "<style scoped>\n",
       "    .dataframe tbody tr th:only-of-type {\n",
       "        vertical-align: middle;\n",
       "    }\n",
       "\n",
       "    .dataframe tbody tr th {\n",
       "        vertical-align: top;\n",
       "    }\n",
       "\n",
       "    .dataframe thead th {\n",
       "        text-align: right;\n",
       "    }\n",
       "</style>\n",
       "<table border=\"1\" class=\"dataframe\">\n",
       "  <thead>\n",
       "    <tr style=\"text-align: right;\">\n",
       "      <th></th>\n",
       "      <th>transaction_date</th>\n",
       "      <th>transaction_postdate</th>\n",
       "      <th>transaction_description</th>\n",
       "      <th>spend_category</th>\n",
       "      <th>amount</th>\n",
       "      <th>source_file</th>\n",
       "    </tr>\n",
       "  </thead>\n",
       "  <tbody>\n",
       "    <tr>\n",
       "      <th>5</th>\n",
       "      <td>2020-08-17</td>\n",
       "      <td>2020-08-18</td>\n",
       "      <td>MY SPICE HOUSE WINNIPEG MB</td>\n",
       "      <td>Retail and Grocery</td>\n",
       "      <td>11.00</td>\n",
       "      <td>onlineStatement (13).pdf</td>\n",
       "    </tr>\n",
       "    <tr>\n",
       "      <th>6</th>\n",
       "      <td>2020-08-17</td>\n",
       "      <td>2020-08-18</td>\n",
       "      <td>REAL CDN. SUPERSTORE # WINNIPEG MB</td>\n",
       "      <td>Retail and Grocery</td>\n",
       "      <td>22.37</td>\n",
       "      <td>onlineStatement (13).pdf</td>\n",
       "    </tr>\n",
       "    <tr>\n",
       "      <th>7</th>\n",
       "      <td>2020-08-20</td>\n",
       "      <td>2020-08-21</td>\n",
       "      <td>MPI BISON SERVICE CENTRE WINNIPEG MB</td>\n",
       "      <td>Professional and Financial Services</td>\n",
       "      <td>25.00</td>\n",
       "      <td>onlineStatement (13).pdf</td>\n",
       "    </tr>\n",
       "    <tr>\n",
       "      <th>8</th>\n",
       "      <td>2020-08-20</td>\n",
       "      <td>2020-08-24</td>\n",
       "      <td>SOBEYS #5037 WINNIPEG MB</td>\n",
       "      <td>Retail and Grocery</td>\n",
       "      <td>15.76</td>\n",
       "      <td>onlineStatement (13).pdf</td>\n",
       "    </tr>\n",
       "    <tr>\n",
       "      <th>9</th>\n",
       "      <td>2020-08-22</td>\n",
       "      <td>2020-08-24</td>\n",
       "      <td>TIM HORTONS #8152 WINNIPEG MB</td>\n",
       "      <td>Restaurants</td>\n",
       "      <td>1.98</td>\n",
       "      <td>onlineStatement (13).pdf</td>\n",
       "    </tr>\n",
       "  </tbody>\n",
       "</table>\n",
       "</div>"
      ],
      "text/plain": [
       "  transaction_date transaction_postdate               transaction_description  \\\n",
       "5       2020-08-17           2020-08-18            MY SPICE HOUSE WINNIPEG MB   \n",
       "6       2020-08-17           2020-08-18    REAL CDN. SUPERSTORE # WINNIPEG MB   \n",
       "7       2020-08-20           2020-08-21  MPI BISON SERVICE CENTRE WINNIPEG MB   \n",
       "8       2020-08-20           2020-08-24              SOBEYS #5037 WINNIPEG MB   \n",
       "9       2020-08-22           2020-08-24         TIM HORTONS #8152 WINNIPEG MB   \n",
       "\n",
       "                        spend_category  amount               source_file  \n",
       "5                   Retail and Grocery   11.00  onlineStatement (13).pdf  \n",
       "6                   Retail and Grocery   22.37  onlineStatement (13).pdf  \n",
       "7  Professional and Financial Services   25.00  onlineStatement (13).pdf  \n",
       "8                   Retail and Grocery   15.76  onlineStatement (13).pdf  \n",
       "9                          Restaurants    1.98  onlineStatement (13).pdf  "
      ]
     },
     "execution_count": 5,
     "metadata": {},
     "output_type": "execute_result"
    }
   ],
   "source": [
    "# 4) Import the TransactionPredictor class and load data (fast)\n",
    "from regression_model import TransactionPredictor\n",
    "predictor = TransactionPredictor()\n",
    "df = predictor.load_and_prepare_data()  # loads JSON and removes PAYMENT rows\n",
    "print('\\nLoaded dataframe shape:', df.shape)\n",
    "df.head()"
   ]
  },
  {
   "cell_type": "code",
   "execution_count": null,
   "id": "caebabd4",
   "metadata": {},
   "outputs": [],
   "source": [
    "# 5) Create features and prepare ML data\n",
    "predictor.create_features()\n",
    "X, y = predictor.prepare_ml_data()\n",
    "print('\\nFeatures shape (X):', X.shape)\n",
    "print('Target shape (y):', y.shape)\n",
    "# show first 40 feature names\n",
    "list(X.columns)[:40]"
   ]
  },
  {
   "cell_type": "code",
   "execution_count": null,
   "id": "706ccfde",
   "metadata": {},
   "outputs": [],
   "source": [
    "# 6) Quick demo train: train a small RandomForest and show evaluation & plots (fast)\n",
    "from sklearn.ensemble import RandomForestRegressor\n",
    "rf = RandomForestRegressor(n_estimators=50, random_state=42)\n",
    "rf.fit(predictor.X_train, predictor.y_train)\n",
    "# attach to predictor for helper methods\n",
    "predictor.models['Quick RF'] = rf\n",
    "predictor.best_model = rf\n",
    "# show feature importances if available\n",
    "try:\n",
    "    import pandas as pd\n",
    "    fi = rf.feature_importances_\n",
    "    feat_df = pd.DataFrame({'feature': predictor.X_train.columns, 'importance': fi}).sort_values('importance', ascending=False).head(20)\n",
    "    display(feat_df)\n",
    "except Exception as e:\n",
    "    print('Feature importance not available or error:', e)\n",
    "# evaluation\n",
    "from sklearn.metrics import r2_score, mean_squared_error, mean_absolute_error\n",
    "y_pred = rf.predict(predictor.X_test)\n",
    "print('R2:', r2_score(predictor.y_test, y_pred))\n",
    "print('RMSE:', mean_squared_error(predictor.y_test, y_pred, squared=False))\n",
    "print('MAE:', mean_absolute_error(predictor.y_test, y_pred))\n",
    "# inline visualizations using the helper (matplotlib inline enabled)\n",
    "predictor.create_visualizations()"
   ]
  },
  {
   "cell_type": "code",
   "execution_count": null,
   "id": "ea123caf",
   "metadata": {},
   "outputs": [],
   "source": [
    "# 7) Optional: run the full pipeline (can be slow because of CV/GridSearch).\n",
    "# Uncomment if you want the complete analysis including GridSearchCV tuning.\n",
    "# predictor.run_complete_analysis()\n",
    "# Alternatively run heavy steps separately:\n",
    "# model_scores = predictor.train_models()\n",
    "# cv_scores = predictor.prevent_overfitting()\n",
    "# model_performance = predictor.select_best_model()\n",
    "# predictor.analyze_feature_importance()\n",
    "# predictor.create_visualizations()"
   ]
  },
  {
   "cell_type": "markdown",
   "id": "5f2da766",
   "metadata": {},
   "source": [
    "## Tips\n",
    "- To save the selected model for later use: `import joblib; joblib.dump(predictor.best_model, 'best_reg_model.joblib')`\n",
    "- To run the Streamlit UI, open a terminal and run: `streamlit run model_ui.py` and open `http://localhost:8501`.\n",
    "- If plots do not display inline, ensure `%matplotlib inline` is set in a cell (Cell 3).\n",
    "\n",
    "If you'd like, I can also: create a notebook with more explanation cells, modify `regression_model.py` to save PNGs instead of `plt.show()`, or add a cell that saves the trained model. Tell me which you'd like next."
   ]
  }
 ],
 "metadata": {
  "kernelspec": {
   "display_name": "base",
   "language": "python",
   "name": "python3"
  },
  "language_info": {
   "codemirror_mode": {
    "name": "ipython",
    "version": 3
   },
   "file_extension": ".py",
   "mimetype": "text/x-python",
   "name": "python",
   "nbconvert_exporter": "python",
   "pygments_lexer": "ipython3",
   "version": "3.13.5"
  }
 },
 "nbformat": 4,
 "nbformat_minor": 5
}
