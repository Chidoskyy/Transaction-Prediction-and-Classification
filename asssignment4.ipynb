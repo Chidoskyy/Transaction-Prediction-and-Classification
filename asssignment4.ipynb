{
 "cells": [
  {
   "cell_type": "markdown",
   "id": "8c62c79d",
   "metadata": {},
   "source": [
    "# Extract transactions from statements 13-16\n",
    "\n",
    "This notebook implements template extraction for `onlineStatement (13).pdf` through `onlineStatement (16).pdf`.\n",
    "It extracts these fields into an array of dictionaries: `transaction_date`, `post_date`, `description`, `category`, and `amount`."
   ]
  },
  {
   "cell_type": "code",
   "execution_count": null,
   "id": "6686e2d0",
   "metadata": {},
   "outputs": [],
   "source": [
    "import pdfplumber\n",
    "import re\n",
    "import csv\n",
    "\n",
    "# Your statement files inside the 'data/' folder\n",
    "pdf_files = [\n",
    "    \"data/onlineStatement (13).pdf\",\n",
    "    \"data/onlineStatement (14).pdf\",\n",
    "    \"data/onlineStatement (15).pdf\",\n",
    "    \"data/onlineStatement (16).pdf\"\n",
    "]\n",
    "\n",
    "\n",
    "output_csv = \"data/cibc_transactions.csv\"\n"
   ]
  },
  {
   "cell_type": "code",
   "execution_count": null,
   "id": "ce02624d",
   "metadata": {},
   "outputs": [],
   "source": [
    "transaction_pattern = re.compile(\n",
    "    r\"^([A-Za-z]{3}\\s+\\d{1,2})\\s+([A-Za-z]{3}\\s+\\d{1,2})\\s+(.*?)\\s+([A-Za-z& ]+)\\s+(\\d+\\.\\d{2})$\"\n",
    ")\n",
    "\n",
    "transactions = []\n"
   ]
  },
  {
   "cell_type": "code",
   "execution_count": null,
   "id": "75dc6905",
   "metadata": {},
   "outputs": [
    {
     "name": "stdout",
     "output_type": "stream",
     "text": [
      "Extracted 171 transactions\n"
     ]
    }
   ],
   "source": [
    "for pdf in pdf_files:\n",
    "    with pdfplumber.open(pdf) as pdf_obj:\n",
    "        for page in pdf_obj.pages:\n",
    "            text = page.extract_text()\n",
    "            if not text:\n",
    "                continue\n",
    "            for line in text.split(\"\\n\"):\n",
    "                match = transaction_pattern.match(line.strip())\n",
    "                if match:\n",
    "                    trans_date, post_date, description, category, amount = match.groups()\n",
    "                    transactions.append({\n",
    "                        \"Transaction Date\": trans_date,\n",
    "                        \"Post Date\": post_date,\n",
    "                        \"Description\": description.strip(),\n",
    "                        \"Category\": category.strip(),\n",
    "                        \"Amount\": amount\n",
    "                    })\n",
    "\n",
    "print(f\"Extracted {len(transactions)} transactions\")\n"
   ]
  },
  {
   "cell_type": "code",
   "execution_count": null,
   "id": "478e8880",
   "metadata": {},
   "outputs": [
    {
     "name": "stdout",
     "output_type": "stream",
     "text": [
      " Transactions saved to data/cibc_transactions.csv\n"
     ]
    }
   ],
   "source": [
    "with open(output_csv, mode=\"w\", newline=\"\", encoding=\"utf-8\") as csvfile:\n",
    "    fieldnames = [\"Transaction Date\", \"Post Date\", \"Description\", \"Category\", \"Amount\"]\n",
    "    writer = csv.DictWriter(csvfile, fieldnames=fieldnames)\n",
    "    writer.writeheader()\n",
    "    writer.writerows(transactions)\n",
    "\n",
    "print(f\" Transactions saved to {output_csv}\")\n"
   ]
  },
  {
   "cell_type": "code",
   "execution_count": null,
   "id": "905dea55",
   "metadata": {},
   "outputs": [
    {
     "data": {
      "text/html": [
       "<div>\n",
       "<style scoped>\n",
       "    .dataframe tbody tr th:only-of-type {\n",
       "        vertical-align: middle;\n",
       "    }\n",
       "\n",
       "    .dataframe tbody tr th {\n",
       "        vertical-align: top;\n",
       "    }\n",
       "\n",
       "    .dataframe thead th {\n",
       "        text-align: right;\n",
       "    }\n",
       "</style>\n",
       "<table border=\"1\" class=\"dataframe\">\n",
       "  <thead>\n",
       "    <tr style=\"text-align: right;\">\n",
       "      <th></th>\n",
       "      <th>Transaction Date</th>\n",
       "      <th>Post Date</th>\n",
       "      <th>Description</th>\n",
       "      <th>Category</th>\n",
       "      <th>Amount</th>\n",
       "    </tr>\n",
       "  </thead>\n",
       "  <tbody>\n",
       "    <tr>\n",
       "      <th>0</th>\n",
       "      <td>Aug 25</td>\n",
       "      <td>Aug 26</td>\n",
       "      <td>PAYMENT THANK YOU/PAIEMENT</td>\n",
       "      <td>MERCI</td>\n",
       "      <td>79.61</td>\n",
       "    </tr>\n",
       "    <tr>\n",
       "      <th>1</th>\n",
       "      <td>Sep 02</td>\n",
       "      <td>Sep 03</td>\n",
       "      <td>PAYMENT THANK YOU/PAIEMENT</td>\n",
       "      <td>MERCI</td>\n",
       "      <td>30.54</td>\n",
       "    </tr>\n",
       "    <tr>\n",
       "      <th>2</th>\n",
       "      <td>Sep 04</td>\n",
       "      <td>Sep 08</td>\n",
       "      <td>PAYMENT THANK YOU/PAIEMENT</td>\n",
       "      <td>MERCI</td>\n",
       "      <td>33.25</td>\n",
       "    </tr>\n",
       "    <tr>\n",
       "      <th>3</th>\n",
       "      <td>Sep 05</td>\n",
       "      <td>Sep 09</td>\n",
       "      <td>PAYMENT THANK YOU/PAIEMENT</td>\n",
       "      <td>MERCI</td>\n",
       "      <td>1.60</td>\n",
       "    </tr>\n",
       "    <tr>\n",
       "      <th>4</th>\n",
       "      <td>Sep 09</td>\n",
       "      <td>Sep 10</td>\n",
       "      <td>PAYMENT THANK YOU/PAIEMENT</td>\n",
       "      <td>MERCI</td>\n",
       "      <td>5.18</td>\n",
       "    </tr>\n",
       "    <tr>\n",
       "      <th>5</th>\n",
       "      <td>Aug 17</td>\n",
       "      <td>Aug 18</td>\n",
       "      <td>MY</td>\n",
       "      <td>SPICE HOUSE WINNIPEG MB Retail and Grocery</td>\n",
       "      <td>11.00</td>\n",
       "    </tr>\n",
       "    <tr>\n",
       "      <th>6</th>\n",
       "      <td>Aug 17</td>\n",
       "      <td>Aug 18</td>\n",
       "      <td>REAL CDN. SUPERSTORE #</td>\n",
       "      <td>WINNIPEG MB Retail and Grocery</td>\n",
       "      <td>22.37</td>\n",
       "    </tr>\n",
       "    <tr>\n",
       "      <th>7</th>\n",
       "      <td>Aug 20</td>\n",
       "      <td>Aug 21</td>\n",
       "      <td>MPI</td>\n",
       "      <td>BISON SERVICE CENTRE WINNIPEG MB Professional ...</td>\n",
       "      <td>25.00</td>\n",
       "    </tr>\n",
       "    <tr>\n",
       "      <th>8</th>\n",
       "      <td>Aug 20</td>\n",
       "      <td>Aug 24</td>\n",
       "      <td>SOBEYS #5037</td>\n",
       "      <td>WINNIPEG MB Retail and Grocery</td>\n",
       "      <td>15.76</td>\n",
       "    </tr>\n",
       "    <tr>\n",
       "      <th>9</th>\n",
       "      <td>Aug 22</td>\n",
       "      <td>Aug 24</td>\n",
       "      <td>TIM HORTONS #8152</td>\n",
       "      <td>WINNIPEG MB Restaurants</td>\n",
       "      <td>1.98</td>\n",
       "    </tr>\n",
       "  </tbody>\n",
       "</table>\n",
       "</div>"
      ],
      "text/plain": [
       "  Transaction Date Post Date                 Description  \\\n",
       "0           Aug 25    Aug 26  PAYMENT THANK YOU/PAIEMENT   \n",
       "1           Sep 02    Sep 03  PAYMENT THANK YOU/PAIEMENT   \n",
       "2           Sep 04    Sep 08  PAYMENT THANK YOU/PAIEMENT   \n",
       "3           Sep 05    Sep 09  PAYMENT THANK YOU/PAIEMENT   \n",
       "4           Sep 09    Sep 10  PAYMENT THANK YOU/PAIEMENT   \n",
       "5           Aug 17    Aug 18                          MY   \n",
       "6           Aug 17    Aug 18      REAL CDN. SUPERSTORE #   \n",
       "7           Aug 20    Aug 21                         MPI   \n",
       "8           Aug 20    Aug 24                SOBEYS #5037   \n",
       "9           Aug 22    Aug 24           TIM HORTONS #8152   \n",
       "\n",
       "                                            Category  Amount  \n",
       "0                                              MERCI   79.61  \n",
       "1                                              MERCI   30.54  \n",
       "2                                              MERCI   33.25  \n",
       "3                                              MERCI    1.60  \n",
       "4                                              MERCI    5.18  \n",
       "5         SPICE HOUSE WINNIPEG MB Retail and Grocery   11.00  \n",
       "6                     WINNIPEG MB Retail and Grocery   22.37  \n",
       "7  BISON SERVICE CENTRE WINNIPEG MB Professional ...   25.00  \n",
       "8                     WINNIPEG MB Retail and Grocery   15.76  \n",
       "9                            WINNIPEG MB Restaurants    1.98  "
      ]
     },
     "execution_count": 28,
     "metadata": {},
     "output_type": "execute_result"
    }
   ],
   "source": [
    "import pandas as pd\n",
    "\n",
    "df = pd.read_csv(output_csv)\n",
    "df.head(10)  # Show first 10 rows\n"
   ]
  },
  {
   "cell_type": "code",
   "execution_count": null,
   "id": "65d13184",
   "metadata": {},
   "outputs": [],
   "source": [
    "df = pd.read_csv(\"data/cibc_transactions.csv\")\n",
    "df[\"Transaction Date\"] = pd.to_datetime(df[\"Transaction Date\"] + \" 2020\", format=\"%b %d %Y\")\n",
    "df[\"Month\"] = df[\"Transaction Date\"].dt.strftime(\"%B %Y\")\n"
   ]
  },
  {
   "cell_type": "code",
   "execution_count": null,
   "id": "15ffa5ac",
   "metadata": {},
   "outputs": [
    {
     "data": {
      "application/vnd.jupyter.widget-view+json": {
       "model_id": "a5b04aadaa6f441d99af2ac1e13368c6",
       "version_major": 2,
       "version_minor": 0
      },
      "text/plain": [
       "interactive(children=(Dropdown(description='Select Month:', options=('August 2020', 'December 2020', 'November…"
      ]
     },
     "metadata": {},
     "output_type": "display_data"
    }
   ],
   "source": [
    "import matplotlib.pyplot as plt\n",
    "import ipywidgets as widgets\n",
    "from IPython.display import display\n",
    "\n",
    "def plot_month_spend(month):\n",
    "    # Filter data for selected month\n",
    "    month_data = df[df[\"Month\"] == month]\n",
    "\n",
    "    if month_data.empty:\n",
    "        print(\"No transactions for this month.\")\n",
    "        return\n",
    "\n",
    "    # Convert Amount to numeric\n",
    "    month_data[\"Amount\"] = pd.to_numeric(month_data[\"Amount\"], errors=\"coerce\")\n",
    "\n",
    "    # Group by category and sum\n",
    "    spend_summary = month_data.groupby(\"Category\")[\"Amount\"].sum().sort_values(ascending=False)\n",
    "\n",
    "    # Plot pie chart\n",
    "    plt.figure(figsize=(7,7))\n",
    "    plt.pie(\n",
    "        spend_summary,\n",
    "        labels=spend_summary.index,\n",
    "        autopct='%1.1f%%',     # show percentages\n",
    "        startangle=90,\n",
    "        counterclock=False\n",
    "    )\n",
    "    total_spend = spend_summary.sum()\n",
    "    plt.title(f\"Spending Breakdown - {month}\\nTotal: ${total_spend:,.2f}\", fontsize=14)\n",
    "    plt.tight_layout()\n",
    "    plt.show()\n",
    "\n",
    "# Dropdown for selecting month\n",
    "widgets.interact(\n",
    "    plot_month_spend,\n",
    "    month=widgets.Dropdown(\n",
    "        options=sorted(df[\"Month\"].unique()),\n",
    "        description=\"Select Month:\",\n",
    "        style={'description_width': 'initial'}\n",
    "    )\n",
    ");\n"
   ]
  },
  {
   "cell_type": "code",
   "execution_count": null,
   "id": "ae7336d3",
   "metadata": {},
   "outputs": [
    {
     "data": {
      "text/html": [
       "<div>\n",
       "<style scoped>\n",
       "    .dataframe tbody tr th:only-of-type {\n",
       "        vertical-align: middle;\n",
       "    }\n",
       "\n",
       "    .dataframe tbody tr th {\n",
       "        vertical-align: top;\n",
       "    }\n",
       "\n",
       "    .dataframe thead th {\n",
       "        text-align: right;\n",
       "    }\n",
       "</style>\n",
       "<table border=\"1\" class=\"dataframe\">\n",
       "  <thead>\n",
       "    <tr style=\"text-align: right;\">\n",
       "      <th></th>\n",
       "      <th>Transaction Date</th>\n",
       "      <th>Post Date</th>\n",
       "      <th>Description</th>\n",
       "      <th>Category</th>\n",
       "      <th>Amount</th>\n",
       "    </tr>\n",
       "  </thead>\n",
       "  <tbody>\n",
       "    <tr>\n",
       "      <th>0</th>\n",
       "      <td>Aug 25</td>\n",
       "      <td>Aug 26</td>\n",
       "      <td>PAYMENT THANK YOU/PAIEMENT</td>\n",
       "      <td>MERCI</td>\n",
       "      <td>79.61</td>\n",
       "    </tr>\n",
       "    <tr>\n",
       "      <th>1</th>\n",
       "      <td>Sep 02</td>\n",
       "      <td>Sep 03</td>\n",
       "      <td>PAYMENT THANK YOU/PAIEMENT</td>\n",
       "      <td>MERCI</td>\n",
       "      <td>30.54</td>\n",
       "    </tr>\n",
       "    <tr>\n",
       "      <th>2</th>\n",
       "      <td>Sep 04</td>\n",
       "      <td>Sep 08</td>\n",
       "      <td>PAYMENT THANK YOU/PAIEMENT</td>\n",
       "      <td>MERCI</td>\n",
       "      <td>33.25</td>\n",
       "    </tr>\n",
       "    <tr>\n",
       "      <th>3</th>\n",
       "      <td>Sep 05</td>\n",
       "      <td>Sep 09</td>\n",
       "      <td>PAYMENT THANK YOU/PAIEMENT</td>\n",
       "      <td>MERCI</td>\n",
       "      <td>1.60</td>\n",
       "    </tr>\n",
       "    <tr>\n",
       "      <th>4</th>\n",
       "      <td>Sep 09</td>\n",
       "      <td>Sep 10</td>\n",
       "      <td>PAYMENT THANK YOU/PAIEMENT</td>\n",
       "      <td>MERCI</td>\n",
       "      <td>5.18</td>\n",
       "    </tr>\n",
       "  </tbody>\n",
       "</table>\n",
       "</div>"
      ],
      "text/plain": [
       "  Transaction Date Post Date                 Description Category  Amount\n",
       "0           Aug 25    Aug 26  PAYMENT THANK YOU/PAIEMENT    MERCI   79.61\n",
       "1           Sep 02    Sep 03  PAYMENT THANK YOU/PAIEMENT    MERCI   30.54\n",
       "2           Sep 04    Sep 08  PAYMENT THANK YOU/PAIEMENT    MERCI   33.25\n",
       "3           Sep 05    Sep 09  PAYMENT THANK YOU/PAIEMENT    MERCI    1.60\n",
       "4           Sep 09    Sep 10  PAYMENT THANK YOU/PAIEMENT    MERCI    5.18"
      ]
     },
     "execution_count": 31,
     "metadata": {},
     "output_type": "execute_result"
    }
   ],
   "source": [
    "import pandas as pd\n",
    "\n",
    "\n",
    "df = pd.read_csv(\"data/cibc_transactions.csv\")\n",
    "\n",
    "df.head()\n"
   ]
  },
  {
   "cell_type": "code",
   "execution_count": null,
   "id": "f66806d0",
   "metadata": {},
   "outputs": [
    {
     "name": "stderr",
     "output_type": "stream",
     "text": [
      "C:\\Users\\udugr\\AppData\\Local\\Temp\\ipykernel_71860\\2086970872.py:4: UserWarning: Could not infer format, so each element will be parsed individually, falling back to `dateutil`. To ensure parsing is consistent and as-expected, please specify a format.\n",
      "  df[\"Transaction Date\"] = pd.to_datetime(df[\"Transaction Date\"], errors=\"coerce\")\n"
     ]
    }
   ],
   "source": [
    "df[\"Amount\"] = pd.to_numeric(df[\"Amount\"], errors=\"coerce\")\n",
    "\n",
    "\n",
    "df[\"Transaction Date\"] = pd.to_datetime(df[\"Transaction Date\"], errors=\"coerce\")\n",
    "\n",
    "\n",
    "df[\"DayOfWeek\"] = df[\"Transaction Date\"].dt.dayofweek\n",
    "df[\"Day\"] = df[\"Transaction Date\"].dt.day\n",
    "df[\"Month\"] = df[\"Transaction Date\"].dt.month\n",
    "\n",
    "\n",
    "df[\"Merchant\"] = df[\"Description\"].str.split().str[0]\n",
    "\n",
    "\n",
    "df_encoded = pd.get_dummies(df[[\"Category\", \"Merchant\", \"DayOfWeek\", \"Day\", \"Month\"]])\n",
    "\n",
    "X = df_encoded\n",
    "y = df[\"Amount\"]\n"
   ]
  },
  {
   "cell_type": "code",
   "execution_count": null,
   "id": "d60daf07",
   "metadata": {},
   "outputs": [],
   "source": [
    "from sklearn.model_selection import train_test_split\n",
    "\n",
    "X_train, X_test, y_train, y_test = train_test_split(X, y, test_size=0.2, random_state=42)\n"
   ]
  },
  {
   "cell_type": "code",
   "execution_count": null,
   "id": "a18fcd62",
   "metadata": {},
   "outputs": [
    {
     "name": "stdout",
     "output_type": "stream",
     "text": [
      " Model trained successfully!\n",
      "Mean Squared Error: 417.78\n",
      "R² Score: 0.33\n",
      "Training samples used: 136, Test samples: 35\n"
     ]
    }
   ],
   "source": [
    "from sklearn.linear_model import LinearRegression\n",
    "from sklearn.metrics import mean_squared_error, r2_score\n",
    "import numpy as np\n",
    "\n",
    "X_train = X_train.replace([np.inf, -np.inf], np.nan).fillna(0)\n",
    "X_test = X_test.replace([np.inf, -np.inf], np.nan).fillna(0)\n",
    "\n",
    "\n",
    "y_train = y_train.loc[X_train.index]\n",
    "y_test = y_test.loc[X_test.index]\n",
    "\n",
    "model = LinearRegression()\n",
    "model.fit(X_train, y_train)\n",
    "\n",
    "y_pred = model.predict(X_test)\n",
    "\n",
    "\n",
    "mse = mean_squared_error(y_test, y_pred)\n",
    "r2 = r2_score(y_test, y_pred)\n",
    "\n",
    "print(f\" Model trained successfully!\")\n",
    "print(f\"Mean Squared Error: {mse:.2f}\")\n",
    "print(f\"R² Score: {r2:.2f}\")\n",
    "print(f\"Training samples used: {len(X_train)}, Test samples: {len(X_test)}\")\n"
   ]
  },
  {
   "cell_type": "code",
   "execution_count": null,
   "id": "e9d488cc",
   "metadata": {},
   "outputs": [
    {
     "data": {
      "text/html": [
       "<div>\n",
       "<style scoped>\n",
       "    .dataframe tbody tr th:only-of-type {\n",
       "        vertical-align: middle;\n",
       "    }\n",
       "\n",
       "    .dataframe tbody tr th {\n",
       "        vertical-align: top;\n",
       "    }\n",
       "\n",
       "    .dataframe thead th {\n",
       "        text-align: right;\n",
       "    }\n",
       "</style>\n",
       "<table border=\"1\" class=\"dataframe\">\n",
       "  <thead>\n",
       "    <tr style=\"text-align: right;\">\n",
       "      <th></th>\n",
       "      <th>Actual</th>\n",
       "      <th>Predicted</th>\n",
       "    </tr>\n",
       "  </thead>\n",
       "  <tbody>\n",
       "    <tr>\n",
       "      <th>0</th>\n",
       "      <td>8.95</td>\n",
       "      <td>12.040000</td>\n",
       "    </tr>\n",
       "    <tr>\n",
       "      <th>1</th>\n",
       "      <td>30.98</td>\n",
       "      <td>35.659601</td>\n",
       "    </tr>\n",
       "    <tr>\n",
       "      <th>2</th>\n",
       "      <td>6.49</td>\n",
       "      <td>3.880000</td>\n",
       "    </tr>\n",
       "    <tr>\n",
       "      <th>3</th>\n",
       "      <td>27.10</td>\n",
       "      <td>28.613333</td>\n",
       "    </tr>\n",
       "    <tr>\n",
       "      <th>4</th>\n",
       "      <td>29.65</td>\n",
       "      <td>24.004444</td>\n",
       "    </tr>\n",
       "    <tr>\n",
       "      <th>5</th>\n",
       "      <td>1.33</td>\n",
       "      <td>3.880000</td>\n",
       "    </tr>\n",
       "    <tr>\n",
       "      <th>6</th>\n",
       "      <td>12.86</td>\n",
       "      <td>10.215000</td>\n",
       "    </tr>\n",
       "    <tr>\n",
       "      <th>7</th>\n",
       "      <td>2.23</td>\n",
       "      <td>2.740000</td>\n",
       "    </tr>\n",
       "    <tr>\n",
       "      <th>8</th>\n",
       "      <td>20.02</td>\n",
       "      <td>35.659601</td>\n",
       "    </tr>\n",
       "    <tr>\n",
       "      <th>9</th>\n",
       "      <td>2.26</td>\n",
       "      <td>10.215000</td>\n",
       "    </tr>\n",
       "  </tbody>\n",
       "</table>\n",
       "</div>"
      ],
      "text/plain": [
       "   Actual  Predicted\n",
       "0    8.95  12.040000\n",
       "1   30.98  35.659601\n",
       "2    6.49   3.880000\n",
       "3   27.10  28.613333\n",
       "4   29.65  24.004444\n",
       "5    1.33   3.880000\n",
       "6   12.86  10.215000\n",
       "7    2.23   2.740000\n",
       "8   20.02  35.659601\n",
       "9    2.26  10.215000"
      ]
     },
     "execution_count": 41,
     "metadata": {},
     "output_type": "execute_result"
    }
   ],
   "source": [
    "# Compare actual vs predicted\n",
    "comparison = pd.DataFrame({\"Actual\": y_test.values, \"Predicted\": y_pred})\n",
    "comparison.head(10)\n"
   ]
  },
  {
   "cell_type": "code",
   "execution_count": null,
   "id": "a5f4c16e",
   "metadata": {},
   "outputs": [],
   "source": [
    "\n",
    "X = df[\"Description\"]\n",
    "y = df[\"Category\"]\n"
   ]
  },
  {
   "cell_type": "code",
   "execution_count": null,
   "id": "ce47e1b3",
   "metadata": {},
   "outputs": [],
   "source": [
    "from sklearn.model_selection import train_test_split\n",
    "\n",
    "counts = y.value_counts()\n",
    "mask = y.isin(counts[counts > 1].index)\n",
    "X = X[mask]\n",
    "y = y[mask]\n",
    "\n",
    "X_train, X_test, y_train, y_test = train_test_split(\n",
    "    X, y, test_size=0.2, random_state=42, stratify=y\n",
    ")\n"
   ]
  },
  {
   "cell_type": "code",
   "execution_count": null,
   "id": "eb64825b",
   "metadata": {},
   "outputs": [],
   "source": [
    "from sklearn.feature_extraction.text import TfidfVectorizer\n",
    "\n",
    "# TF-IDF vectorization\n",
    "vectorizer = TfidfVectorizer(stop_words=\"english\", ngram_range=(1,2), max_features=500)\n",
    "X_train_vec = vectorizer.fit_transform(X_train)\n",
    "X_test_vec = vectorizer.transform(X_test)\n"
   ]
  },
  {
   "cell_type": "code",
   "execution_count": null,
   "id": "0e057a75",
   "metadata": {},
   "outputs": [
    {
     "name": "stdout",
     "output_type": "stream",
     "text": [
      "Accuracy: 1.00\n",
      "\n",
      "Classification Report:\n",
      "                                      precision    recall  f1-score   support\n",
      "\n",
      "                              MERCI       1.00      1.00      1.00         7\n",
      " RESTAURANT WINNIPEG MB Restaurants       1.00      1.00      1.00         2\n",
      "SUM KINGDOM WINNIPEG MB Restaurants       1.00      1.00      1.00         1\n",
      "   WINNIPEG MB Health and Education       1.00      1.00      1.00         4\n",
      "            WINNIPEG MB Restaurants       1.00      1.00      1.00        13\n",
      "     WINNIPEG MB Retail and Grocery       1.00      1.00      1.00         5\n",
      "            Winnipeg MB Restaurants       1.00      1.00      1.00         1\n",
      "\n",
      "                           accuracy                           1.00        33\n",
      "                          macro avg       1.00      1.00      1.00        33\n",
      "                       weighted avg       1.00      1.00      1.00        33\n",
      "\n"
     ]
    }
   ],
   "source": [
    "from sklearn.ensemble import RandomForestClassifier\n",
    "from sklearn.metrics import accuracy_score, classification_report\n",
    "\n",
    "clf = RandomForestClassifier(random_state=42)\n",
    "clf.fit(X_train_vec, y_train)\n",
    "\n",
    "y_pred = clf.predict(X_test_vec)\n",
    "\n",
    "accuracy = accuracy_score(y_test, y_pred)\n",
    "print(f\"Accuracy: {accuracy:.2f}\")\n",
    "print(\"\\nClassification Report:\\n\", classification_report(y_test, y_pred))\n"
   ]
  },
  {
   "cell_type": "code",
   "execution_count": null,
   "id": "431c3893",
   "metadata": {},
   "outputs": [
    {
     "name": "stdout",
     "output_type": "stream",
     "text": [
      "Tim Hortons → WINNIPEG MB Restaurants\n",
      "Shoppers Drug Mart → SPICE HOUSE WINNIPEG MB Retail and Grocery\n",
      "Burger King → SPICE HOUSE WINNIPEG MB Retail and Grocery\n",
      "Pizza Pizza → WINNIPEG MB Restaurants\n",
      "Dollarama → SPICE HOUSE WINNIPEG MB Retail and Grocery\n"
     ]
    }
   ],
   "source": [
    "\n",
    "sample = [\"Tim Hortons\", \"Shoppers Drug Mart\", \"Burger King\", \"Pizza Pizza\", \"Dollarama\"]\n",
    "sample_vec = vectorizer.transform(sample)\n",
    "preds = clf.predict(sample_vec)\n",
    "\n",
    "for desc, cat in zip(sample, preds):\n",
    "    print(f\"{desc} → {cat}\")\n"
   ]
  }
 ],
 "metadata": {
  "kernelspec": {
   "display_name": "base",
   "language": "python",
   "name": "python3"
  },
  "language_info": {
   "codemirror_mode": {
    "name": "ipython",
    "version": 3
   },
   "file_extension": ".py",
   "mimetype": "text/x-python",
   "name": "python",
   "nbconvert_exporter": "python",
   "pygments_lexer": "ipython3",
   "version": "3.13.5"
  }
 },
 "nbformat": 4,
 "nbformat_minor": 5
}
